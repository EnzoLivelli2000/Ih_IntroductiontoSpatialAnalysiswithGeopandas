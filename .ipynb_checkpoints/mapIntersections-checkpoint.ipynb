{
 "cells": [
  {
   "cell_type": "code",
   "execution_count": 1,
   "metadata": {
    "tags": []
   },
   "outputs": [],
   "source": [
    "%matplotlib inline\n",
    "import geopandas as gpd\n",
    "guayapol = gpd.read_file('shp/Guayaqui_Poligonos.shp')"
   ]
  },
  {
   "cell_type": "code",
   "execution_count": 2,
   "metadata": {
    "collapsed": false,
    "jupyter": {
     "outputs_hidden": false
    }
   },
   "outputs": [
    {
     "data": {
      "text/plain": [
       "Index(['osm_id', 'osm_way_id', 'name', 'type', 'aeroway', 'amenity',\n",
       "       'admin_leve', 'barrier', 'boundary', 'building', 'craft', 'geological',\n",
       "       'historic', 'land_area', 'landuse', 'leisure', 'man_made', 'military',\n",
       "       'natural', 'office', 'place', 'shop', 'sport', 'tourism', 'other_tags',\n",
       "       'Area', 'geometry'],\n",
       "      dtype='object')"
      ]
     },
     "execution_count": 2,
     "metadata": {},
     "output_type": "execute_result"
    }
   ],
   "source": [
    "guayapol.columns"
   ]
  },
  {
   "cell_type": "code",
   "execution_count": 3,
   "metadata": {
    "collapsed": false,
    "jupyter": {
     "outputs_hidden": false
    }
   },
   "outputs": [
    {
     "data": {
      "text/html": [
       "<div>\n",
       "<style scoped>\n",
       "    .dataframe tbody tr th:only-of-type {\n",
       "        vertical-align: middle;\n",
       "    }\n",
       "\n",
       "    .dataframe tbody tr th {\n",
       "        vertical-align: top;\n",
       "    }\n",
       "\n",
       "    .dataframe thead th {\n",
       "        text-align: right;\n",
       "    }\n",
       "</style>\n",
       "<table border=\"1\" class=\"dataframe\">\n",
       "  <thead>\n",
       "    <tr style=\"text-align: right;\">\n",
       "      <th></th>\n",
       "      <th>osm_id</th>\n",
       "      <th>osm_way_id</th>\n",
       "      <th>name</th>\n",
       "      <th>type</th>\n",
       "      <th>aeroway</th>\n",
       "      <th>amenity</th>\n",
       "      <th>admin_leve</th>\n",
       "      <th>barrier</th>\n",
       "      <th>boundary</th>\n",
       "      <th>building</th>\n",
       "      <th>...</th>\n",
       "      <th>military</th>\n",
       "      <th>natural</th>\n",
       "      <th>office</th>\n",
       "      <th>place</th>\n",
       "      <th>shop</th>\n",
       "      <th>sport</th>\n",
       "      <th>tourism</th>\n",
       "      <th>other_tags</th>\n",
       "      <th>Area</th>\n",
       "      <th>geometry</th>\n",
       "    </tr>\n",
       "  </thead>\n",
       "  <tbody>\n",
       "    <tr>\n",
       "      <th>0</th>\n",
       "      <td>2048284</td>\n",
       "      <td>None</td>\n",
       "      <td>Los Ãlamos</td>\n",
       "      <td>boundary</td>\n",
       "      <td>None</td>\n",
       "      <td>None</td>\n",
       "      <td>10</td>\n",
       "      <td>None</td>\n",
       "      <td>administrative</td>\n",
       "      <td>None</td>\n",
       "      <td>...</td>\n",
       "      <td>None</td>\n",
       "      <td>None</td>\n",
       "      <td>None</td>\n",
       "      <td>None</td>\n",
       "      <td>None</td>\n",
       "      <td>None</td>\n",
       "      <td>None</td>\n",
       "      <td>\"is_in:county\"=&gt;\"Guayaquil\",\"wikidata\"=&gt;\"Q5547...</td>\n",
       "      <td>411645.776</td>\n",
       "      <td>POLYGON ((-79.90771 -2.13387, -79.90830 -2.133...</td>\n",
       "    </tr>\n",
       "    <tr>\n",
       "      <th>1</th>\n",
       "      <td>6415358</td>\n",
       "      <td>None</td>\n",
       "      <td>Centro Comercial Polaris</td>\n",
       "      <td>multipolygon</td>\n",
       "      <td>None</td>\n",
       "      <td>None</td>\n",
       "      <td>None</td>\n",
       "      <td>None</td>\n",
       "      <td>None</td>\n",
       "      <td>commercial</td>\n",
       "      <td>...</td>\n",
       "      <td>None</td>\n",
       "      <td>None</td>\n",
       "      <td>None</td>\n",
       "      <td>None</td>\n",
       "      <td>None</td>\n",
       "      <td>None</td>\n",
       "      <td>None</td>\n",
       "      <td>\"addr:street\"=&gt;\"Isidro Ayora Cueva\"</td>\n",
       "      <td>3600.819</td>\n",
       "      <td>MULTIPOLYGON (((-79.90054 -2.11775, -79.90041 ...</td>\n",
       "    </tr>\n",
       "    <tr>\n",
       "      <th>2</th>\n",
       "      <td>None</td>\n",
       "      <td>35692043</td>\n",
       "      <td>Parque de la 4ta</td>\n",
       "      <td>None</td>\n",
       "      <td>None</td>\n",
       "      <td>None</td>\n",
       "      <td>None</td>\n",
       "      <td>None</td>\n",
       "      <td>None</td>\n",
       "      <td>None</td>\n",
       "      <td>...</td>\n",
       "      <td>None</td>\n",
       "      <td>None</td>\n",
       "      <td>None</td>\n",
       "      <td>None</td>\n",
       "      <td>None</td>\n",
       "      <td>None</td>\n",
       "      <td>None</td>\n",
       "      <td>None</td>\n",
       "      <td>3827.957</td>\n",
       "      <td>POLYGON ((-79.89476 -2.13811, -79.89455 -2.138...</td>\n",
       "    </tr>\n",
       "    <tr>\n",
       "      <th>3</th>\n",
       "      <td>None</td>\n",
       "      <td>35692054</td>\n",
       "      <td>Albocentro I</td>\n",
       "      <td>None</td>\n",
       "      <td>None</td>\n",
       "      <td>None</td>\n",
       "      <td>None</td>\n",
       "      <td>None</td>\n",
       "      <td>None</td>\n",
       "      <td>retail</td>\n",
       "      <td>...</td>\n",
       "      <td>None</td>\n",
       "      <td>None</td>\n",
       "      <td>None</td>\n",
       "      <td>None</td>\n",
       "      <td>None</td>\n",
       "      <td>None</td>\n",
       "      <td>None</td>\n",
       "      <td>None</td>\n",
       "      <td>1010.729</td>\n",
       "      <td>POLYGON ((-79.89677 -2.14088, -79.89669 -2.141...</td>\n",
       "    </tr>\n",
       "    <tr>\n",
       "      <th>4</th>\n",
       "      <td>None</td>\n",
       "      <td>35692055</td>\n",
       "      <td>Albocentro II</td>\n",
       "      <td>None</td>\n",
       "      <td>None</td>\n",
       "      <td>None</td>\n",
       "      <td>None</td>\n",
       "      <td>None</td>\n",
       "      <td>None</td>\n",
       "      <td>retail</td>\n",
       "      <td>...</td>\n",
       "      <td>None</td>\n",
       "      <td>None</td>\n",
       "      <td>None</td>\n",
       "      <td>None</td>\n",
       "      <td>None</td>\n",
       "      <td>None</td>\n",
       "      <td>None</td>\n",
       "      <td>None</td>\n",
       "      <td>1470.616</td>\n",
       "      <td>POLYGON ((-79.89786 -2.14006, -79.89763 -2.139...</td>\n",
       "    </tr>\n",
       "  </tbody>\n",
       "</table>\n",
       "<p>5 rows × 27 columns</p>\n",
       "</div>"
      ],
      "text/plain": [
       "    osm_id osm_way_id                      name          type aeroway amenity  \\\n",
       "0  2048284       None               Los Ãlamos      boundary    None    None   \n",
       "1  6415358       None  Centro Comercial Polaris  multipolygon    None    None   \n",
       "2     None   35692043          Parque de la 4ta          None    None    None   \n",
       "3     None   35692054              Albocentro I          None    None    None   \n",
       "4     None   35692055             Albocentro II          None    None    None   \n",
       "\n",
       "  admin_leve barrier        boundary    building  ... military natural office  \\\n",
       "0         10    None  administrative        None  ...     None    None   None   \n",
       "1       None    None            None  commercial  ...     None    None   None   \n",
       "2       None    None            None        None  ...     None    None   None   \n",
       "3       None    None            None      retail  ...     None    None   None   \n",
       "4       None    None            None      retail  ...     None    None   None   \n",
       "\n",
       "  place  shop sport tourism  \\\n",
       "0  None  None  None    None   \n",
       "1  None  None  None    None   \n",
       "2  None  None  None    None   \n",
       "3  None  None  None    None   \n",
       "4  None  None  None    None   \n",
       "\n",
       "                                          other_tags        Area  \\\n",
       "0  \"is_in:county\"=>\"Guayaquil\",\"wikidata\"=>\"Q5547...  411645.776   \n",
       "1                \"addr:street\"=>\"Isidro Ayora Cueva\"    3600.819   \n",
       "2                                               None    3827.957   \n",
       "3                                               None    1010.729   \n",
       "4                                               None    1470.616   \n",
       "\n",
       "                                            geometry  \n",
       "0  POLYGON ((-79.90771 -2.13387, -79.90830 -2.133...  \n",
       "1  MULTIPOLYGON (((-79.90054 -2.11775, -79.90041 ...  \n",
       "2  POLYGON ((-79.89476 -2.13811, -79.89455 -2.138...  \n",
       "3  POLYGON ((-79.89677 -2.14088, -79.89669 -2.141...  \n",
       "4  POLYGON ((-79.89786 -2.14006, -79.89763 -2.139...  \n",
       "\n",
       "[5 rows x 27 columns]"
      ]
     },
     "execution_count": 3,
     "metadata": {},
     "output_type": "execute_result"
    }
   ],
   "source": [
    "guayapol.head()"
   ]
  },
  {
   "cell_type": "code",
   "execution_count": 4,
   "metadata": {
    "collapsed": false,
    "jupyter": {
     "outputs_hidden": false
    }
   },
   "outputs": [
    {
     "data": {
      "text/plain": [
       "<AxesSubplot:>"
      ]
     },
     "execution_count": 4,
     "metadata": {},
     "output_type": "execute_result"
    },
    {
     "data": {
      "image/png": "[encoded data removed]",
      "text/plain": [
       "<Figure size 432x288 with 1 Axes>"
      ]
     },
     "metadata": {
      "needs_background": "light"
     },
     "output_type": "display_data"
    }
   ],
   "source": [
    "guayapol.plot()"
   ]
  },
  {
   "cell_type": "code",
   "execution_count": 5,
   "metadata": {
    "collapsed": false,
    "jupyter": {
     "outputs_hidden": false
    }
   },
   "outputs": [
    {
     "name": "stdout",
     "output_type": "stream",
     "text": [
      "Column name: osm_id\n",
      "Unique values: ['2048284' '6415358' None]\n",
      "----------\n",
      "Column name: type\n",
      "Unique values: ['boundary' 'multipolygon' None]\n",
      "----------\n",
      "Column name: aeroway\n",
      "Unique values: [None]\n",
      "----------\n",
      "Column name: admin_leve\n",
      "Unique values: ['10' None '9']\n",
      "----------\n",
      "Column name: barrier\n",
      "Unique values: [None]\n",
      "----------\n",
      "Column name: boundary\n",
      "Unique values: ['administrative' None]\n",
      "----------\n",
      "Column name: craft\n",
      "Unique values: [None 'electronics_repair' 'upholsterer']\n",
      "----------\n",
      "Column name: geological\n",
      "Unique values: [None]\n",
      "----------\n",
      "Column name: historic\n",
      "Unique values: [None]\n",
      "----------\n",
      "Column name: land_area\n",
      "Unique values: [None]\n",
      "----------\n",
      "Column name: landuse\n",
      "Unique values: [None 'retail' 'industrial' 'residential' 'commercial' 'recreation_ground']\n",
      "----------\n",
      "Column name: leisure\n",
      "Unique values: [None 'park' 'pitch' 'recreation_ground' 'playground' 'sports_centre'\n",
      " 'dancing' 'swimming_pool']\n",
      "----------\n",
      "Column name: man_made\n",
      "Unique values: [None]\n",
      "----------\n",
      "Column name: military\n",
      "Unique values: [None]\n",
      "----------\n",
      "Column name: natural\n",
      "Unique values: [None 'water']\n",
      "----------\n",
      "Column name: office\n",
      "Unique values: [None 'educational_institution' 'newspaper' 'medical' 'telecommunication'\n",
      " 'company' 'yes' 'government']\n",
      "----------\n",
      "Column name: place\n",
      "Unique values: [None]\n",
      "----------\n",
      "Column name: sport\n",
      "Unique values: [None 'multi' 'basketball' 'soccer' 'tennis']\n",
      "----------\n",
      "Column name: tourism\n",
      "Unique values: [None 'hotel' 'hostel']\n",
      "----------\n"
     ]
    }
   ],
   "source": [
    "for item in guayapol.columns[:-1]:\n",
    "    uniquelist = guayapol[item].unique()\n",
    "    if uniquelist.flatten().shape[0] < 10:\n",
    "        print('Column name: {}'.format(item))\n",
    "        print('Unique values: {}'.format(guayapol[item].unique()))\n",
    "        print('----------')"
   ]
  },
  {
   "cell_type": "code",
   "execution_count": 6,
   "metadata": {
    "collapsed": false,
    "jupyter": {
     "outputs_hidden": false
    }
   },
   "outputs": [
    {
     "data": {
      "text/html": [
       "<div>\n",
       "<style scoped>\n",
       "    .dataframe tbody tr th:only-of-type {\n",
       "        vertical-align: middle;\n",
       "    }\n",
       "\n",
       "    .dataframe tbody tr th {\n",
       "        vertical-align: top;\n",
       "    }\n",
       "\n",
       "    .dataframe thead th {\n",
       "        text-align: right;\n",
       "    }\n",
       "</style>\n",
       "<table border=\"1\" class=\"dataframe\">\n",
       "  <thead>\n",
       "    <tr style=\"text-align: right;\">\n",
       "      <th></th>\n",
       "      <th>Area</th>\n",
       "    </tr>\n",
       "  </thead>\n",
       "  <tbody>\n",
       "    <tr>\n",
       "      <th>count</th>\n",
       "      <td>715.000000</td>\n",
       "    </tr>\n",
       "    <tr>\n",
       "      <th>mean</th>\n",
       "      <td>5301.641473</td>\n",
       "    </tr>\n",
       "    <tr>\n",
       "      <th>std</th>\n",
       "      <td>40946.266658</td>\n",
       "    </tr>\n",
       "    <tr>\n",
       "      <th>min</th>\n",
       "      <td>35.062000</td>\n",
       "    </tr>\n",
       "    <tr>\n",
       "      <th>25%</th>\n",
       "      <td>136.352500</td>\n",
       "    </tr>\n",
       "    <tr>\n",
       "      <th>50%</th>\n",
       "      <td>225.333000</td>\n",
       "    </tr>\n",
       "    <tr>\n",
       "      <th>75%</th>\n",
       "      <td>954.399000</td>\n",
       "    </tr>\n",
       "    <tr>\n",
       "      <th>max</th>\n",
       "      <td>584652.933000</td>\n",
       "    </tr>\n",
       "  </tbody>\n",
       "</table>\n",
       "</div>"
      ],
      "text/plain": [
       "                Area\n",
       "count     715.000000\n",
       "mean     5301.641473\n",
       "std     40946.266658\n",
       "min        35.062000\n",
       "25%       136.352500\n",
       "50%       225.333000\n",
       "75%       954.399000\n",
       "max    584652.933000"
      ]
     },
     "execution_count": 6,
     "metadata": {},
     "output_type": "execute_result"
    }
   ],
   "source": [
    "guayalanduse = guayapol[guayapol['landuse']!='']\n",
    "guayalanduse.describe()"
   ]
  },
  {
   "cell_type": "code",
   "execution_count": 7,
   "metadata": {
    "collapsed": false,
    "jupyter": {
     "outputs_hidden": false
    }
   },
   "outputs": [
    {
     "data": {
      "text/plain": [
       "<AxesSubplot:>"
      ]
     },
     "execution_count": 7,
     "metadata": {},
     "output_type": "execute_result"
    },
    {
     "data": {
      "image/png": "[encoded data removed]",
      "text/plain": [
       "<Figure size 432x288 with 1 Axes>"
      ]
     },
     "metadata": {
      "needs_background": "light"
     },
     "output_type": "display_data"
    }
   ],
   "source": [
    "guayalanduse.plot()"
   ]
  },
  {
   "cell_type": "code",
   "execution_count": 8,
   "metadata": {
    "collapsed": false,
    "jupyter": {
     "outputs_hidden": false
    }
   },
   "outputs": [
    {
     "data": {
      "text/plain": [
       "<AxesSubplot:>"
      ]
     },
     "execution_count": 8,
     "metadata": {},
     "output_type": "execute_result"
    },
    {
     "data": {
      "image/png": "[encoded data removed]",
      "text/plain": [
       "<Figure size 432x288 with 1 Axes>"
      ]
     },
     "metadata": {
      "needs_background": "light"
     },
     "output_type": "display_data"
    }
   ],
   "source": [
    "import matplotlib.pyplot as plt\n",
    "guayalanduse.plot(column='landuse')"
   ]
  },
  {
   "cell_type": "code",
   "execution_count": 9,
   "metadata": {
    "collapsed": false,
    "jupyter": {
     "outputs_hidden": false
    }
   },
   "outputs": [
    {
     "data": {
      "text/plain": [
       "array([-79.9194699,  -2.1412553, -79.8794057,  -2.1158941])"
      ]
     },
     "execution_count": 9,
     "metadata": {},
     "output_type": "execute_result"
    }
   ],
   "source": [
    "guayalanduse.total_bounds"
   ]
  },
  {
   "cell_type": "code",
   "execution_count": 10,
   "metadata": {
    "collapsed": false,
    "jupyter": {
     "outputs_hidden": false
    }
   },
   "outputs": [
    {
     "data": {
      "text/plain": [
       "<AxesSubplot:>"
      ]
     },
     "execution_count": 10,
     "metadata": {},
     "output_type": "execute_result"
    },
    {
     "data": {
      "image/png": "[encoded data removed]",
      "text/plain": [
       "<Figure size 432x288 with 1 Axes>"
      ]
     },
     "metadata": {
      "needs_background": "light"
     },
     "output_type": "display_data"
    }
   ],
   "source": [
    "guayapark = guayapol[guayapol['leisure']=='park']\n",
    "guayapark.plot()"
   ]
  },
  {
   "cell_type": "code",
   "execution_count": 11,
   "metadata": {
    "collapsed": false,
    "jupyter": {
     "outputs_hidden": false
    }
   },
   "outputs": [
    {
     "data": {
      "text/html": [
       "<div>\n",
       "<style scoped>\n",
       "    .dataframe tbody tr th:only-of-type {\n",
       "        vertical-align: middle;\n",
       "    }\n",
       "\n",
       "    .dataframe tbody tr th {\n",
       "        vertical-align: top;\n",
       "    }\n",
       "\n",
       "    .dataframe thead th {\n",
       "        text-align: right;\n",
       "    }\n",
       "</style>\n",
       "<table border=\"1\" class=\"dataframe\">\n",
       "  <thead>\n",
       "    <tr style=\"text-align: right;\">\n",
       "      <th></th>\n",
       "      <th>Area</th>\n",
       "    </tr>\n",
       "  </thead>\n",
       "  <tbody>\n",
       "    <tr>\n",
       "      <th>count</th>\n",
       "      <td>69.000000</td>\n",
       "    </tr>\n",
       "    <tr>\n",
       "      <th>mean</th>\n",
       "      <td>1791.947362</td>\n",
       "    </tr>\n",
       "    <tr>\n",
       "      <th>std</th>\n",
       "      <td>1958.444054</td>\n",
       "    </tr>\n",
       "    <tr>\n",
       "      <th>min</th>\n",
       "      <td>120.123000</td>\n",
       "    </tr>\n",
       "    <tr>\n",
       "      <th>25%</th>\n",
       "      <td>598.119000</td>\n",
       "    </tr>\n",
       "    <tr>\n",
       "      <th>50%</th>\n",
       "      <td>1103.094000</td>\n",
       "    </tr>\n",
       "    <tr>\n",
       "      <th>75%</th>\n",
       "      <td>2039.530000</td>\n",
       "    </tr>\n",
       "    <tr>\n",
       "      <th>max</th>\n",
       "      <td>10042.033000</td>\n",
       "    </tr>\n",
       "  </tbody>\n",
       "</table>\n",
       "</div>"
      ],
      "text/plain": [
       "               Area\n",
       "count     69.000000\n",
       "mean    1791.947362\n",
       "std     1958.444054\n",
       "min      120.123000\n",
       "25%      598.119000\n",
       "50%     1103.094000\n",
       "75%     2039.530000\n",
       "max    10042.033000"
      ]
     },
     "execution_count": 11,
     "metadata": {},
     "output_type": "execute_result"
    }
   ],
   "source": [
    "guayapark.describe()"
   ]
  },
  {
   "cell_type": "code",
   "execution_count": null,
   "metadata": {},
   "outputs": [],
   "source": []
  }
 ],
 "metadata": {
  "kernelspec": {
   "display_name": "Python 3 (ipykernel)",
   "language": "python",
   "name": "python3"
  },
  "language_info": {
   "codemirror_mode": {
    "name": "ipython",
    "version": 3
   },
   "file_extension": ".py",
   "mimetype": "text/x-python",
   "name": "python",
   "nbconvert_exporter": "python",
   "pygments_lexer": "ipython3",
   "version": "3.9.7"
  }
 },
 "nbformat": 4,
 "nbformat_minor": 4
}
